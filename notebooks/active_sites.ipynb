{
 "cells": [
  {
   "cell_type": "code",
   "execution_count": null,
   "metadata": {},
   "outputs": [
    {
     "name": "stderr",
     "output_type": "stream",
     "text": [
      "/home/calvin/Code/RMG-Py/rmgpy/rmg/reactors.py:52: RuntimeWarning: Unable to import Julia dependencies, original error: No module named 'julia'\n",
      "  warnings.warn(\"Unable to import Julia dependencies, original error: \" + str(e), RuntimeWarning)\n",
      "/home/calvin/mambaforge/envs/arc_env/lib/python3.7/site-packages/paramiko/transport.py:219: CryptographyDeprecationWarning: Blowfish has been deprecated\n",
      "  \"class\": algorithms.Blowfish,\n"
     ]
    }
   ],
   "source": [
    "from arc.species import ARCSpecies\n",
    "from arc.reaction import ARCReaction\n",
    "from arc.job.adapters.ts.heuristics import react\n",
    "from IPython.display import display, Image\n",
    "from arc.species.vectors import calculate_dihedral_angle, calculate_angle\n",
    "from arc.rmgdb import make_rmg_database_object, load_families_only\n",
    "from arc.plotter import draw_structure\n",
    "from rmgpy.species import Species\n",
    "\n",
    "from typing import List, Tuple, Union"
   ]
  },
  {
   "cell_type": "code",
   "execution_count": 2,
   "metadata": {},
   "outputs": [],
   "source": [
    "rmgdb = make_rmg_database_object()\n",
    "load_families_only(rmgdb)"
   ]
  },
  {
   "cell_type": "markdown",
   "metadata": {},
   "source": [
    "# Example"
   ]
  },
  {
   "cell_type": "code",
   "execution_count": 3,
   "metadata": {},
   "outputs": [],
   "source": [
    "smiles_r1 = 'O[O]'\n",
    "xyz_r1 = \"\"\"\n",
    "O      -0.15554002    0.45236503    0.00000000\n",
    "O       0.99423083   -0.18785602    0.00000000\n",
    "H      -0.83869082   -0.26450900    0.00000000\n",
    "\"\"\"\n",
    "\n",
    "smiles_r2h = 'CCC'\n",
    "xyz_r2h = \"\"\"C      -1.26511392    0.18518050   -0.19976825\n",
    "C       0.02461113   -0.61201635   -0.29700643\n",
    "C       0.09902018   -1.69054887    0.77051392\n",
    "H      -1.34710559    0.68170095    0.77242199\n",
    "H      -2.12941774   -0.47587010   -0.31761654\n",
    "H      -1.31335400    0.95021638   -0.98130653\n",
    "H       0.88022594    0.06430231   -0.19248282\n",
    "H       0.09389171   -1.07422931   -1.28794952\n",
    "H      -0.73049348   -2.39807515    0.67191015\n",
    "H       1.03755706   -2.24948851    0.69879172\n",
    "H       0.04615234   -1.24181601    1.76737952\"\"\"\n",
    "\n",
    "smiles_r1h = 'OO'\n",
    "xyz_r1h = \"\"\"O       0.58119119   -0.43123226    0.21855857\n",
    "O      -0.57865095    0.44541161    0.19566260\n",
    "H       1.19886844    0.18357274   -0.22099707\n",
    "H      -1.20140869   -0.19775210   -0.19322406\"\"\"\n",
    "\n",
    "smiles_r2 = 'C[CH]C'\n",
    "xyz_r2 = \"\"\"C       1.29196387    0.15815210    0.32047503\n",
    "C      -0.03887789   -0.17543467    0.89494533\n",
    "C      -1.26222918    0.47039644    0.34836510\n",
    "H       1.40933232    1.23955428    0.20511486\n",
    "H       2.08593721   -0.19903577    0.98301313\n",
    "H       1.41699441   -0.31973461   -0.65525752\n",
    "H      -0.13933823   -1.05339936    1.52398873\n",
    "H      -1.51964710    0.03926484   -0.62319221\n",
    "H      -2.10441807    0.31322346    1.02876738\n",
    "H      -1.11812298    1.54852996    0.23271515\"\"\"\n",
    "\n",
    "ts_xyz = \"\"\"O       1.55836072   -1.23587783   -0.35951973\n",
    "O       1.00967510   -0.90177596    0.94492751\n",
    "H       2.46259077   -0.90915666   -0.19117197\n",
    "C      -0.99257052    0.31741769   -1.40205452\n",
    "C      -0.99257052    0.31741769    0.11727714\n",
    "C      -0.99257052    1.72948280    0.67802778\n",
    "H      -0.10532705    0.82463748   -1.79440154\n",
    "H      -1.87727783    0.83831032   -1.78134455\n",
    "H      -1.00563949   -0.70449332   -1.79440151\n",
    "H       0.06632714   -0.32735900    0.55498420\n",
    "H      -1.87498533   -0.21989618    0.48203303\n",
    "H      -1.87981378    2.28133294    0.35142437\n",
    "H      -0.97950190    1.71696574    1.77259693\n",
    "H      -0.10786300    2.27424405    0.33389830\"\"\""
   ]
  },
  {
   "cell_type": "code",
   "execution_count": 4,
   "metadata": {},
   "outputs": [
    {
     "data": {
      "image/png": "[encoded data removed]",
      "text/plain": [
       "TemplateReaction(reactants=[Species(label=\"\", molecule=[Molecule(smiles=\"[O]O\")], molecular_weight=(33.0068,'amu')), Species(label=\"\", molecule=[Molecule(smiles=\"CCC\")], molecular_weight=(44.0957,'amu'))], products=[Species(label=\"\", molecule=[Molecule(smiles=\"OO\")], molecular_weight=(34.0147,'amu')), Species(label=\"\", molecule=[Molecule(smiles=\"C[CH]C\")], molecular_weight=(43.0877,'amu'))], pairs=[[Species(label=\"\", molecule=[Molecule(smiles=\"[O]O\")], molecular_weight=(33.0068,'amu')), Species(label=\"\", molecule=[Molecule(smiles=\"C[CH]C\")], molecular_weight=(43.0877,'amu'))], [Species(label=\"\", molecule=[Molecule(smiles=\"CCC\")], molecular_weight=(44.0957,'amu')), Species(label=\"\", molecule=[Molecule(smiles=\"OO\")], molecular_weight=(34.0147,'amu'))]], family='H_Abstraction', template=['C/H2/Cs\\\\H3/Cs\\\\H3', 'O_rad/NonDeO'])"
      ]
     },
     "metadata": {},
     "output_type": "display_data"
    }
   ],
   "source": [
    "r1 = ARCSpecies(label=smiles_r1, smiles=smiles_r1, xyz=xyz_r1)\n",
    "r2h = ARCSpecies(label=smiles_r2h, smiles=smiles_r2h, xyz=xyz_r2h)\n",
    "r1h = ARCSpecies(label=smiles_r1h, smiles=smiles_r1h, xyz=xyz_r1h)\n",
    "r2 = ARCSpecies(label=smiles_r2, smiles=smiles_r2, xyz=xyz_r2)\n",
    "\n",
    "rxn = ARCReaction(r_species=[r1, r2h], p_species=[r1h, r2])\n",
    "rxn.ts_species = ARCSpecies(label='TS', is_ts=True, xyz=ts_xyz)\n",
    "template_rxns = react(reactants=[spc.mol for spc in rxn.r_species],\n",
    "                      products=[spc.mol for spc in rxn.p_species],\n",
    "                      family=rmgdb.kinetics.families['H_Abstraction'],\n",
    "                      arc_reaction=rxn,\n",
    "                     )\n",
    "template_rxn = template_rxns[0]\n",
    "display(template_rxn)"
   ]
  },
  {
   "cell_type": "code",
   "execution_count": null,
   "metadata": {},
   "outputs": [
    {
     "data": {
      "text/plain": [
       "'*3'"
      ]
     },
     "execution_count": 15,
     "metadata": {},
     "output_type": "execute_result"
    }
   ],
   "source": [
    "template_rxn.reactants[0].molecule[0].atoms[1].label\n",
    "# Label *3 is the Acceptor atom\n"
   ]
  },
  {
   "cell_type": "code",
   "execution_count": 18,
   "metadata": {},
   "outputs": [
    {
     "data": {
      "text/plain": [
       "'*1'"
      ]
     },
     "execution_count": 18,
     "metadata": {},
     "output_type": "execute_result"
    }
   ],
   "source": [
    "template_rxn.reactants[1].molecule[0].atoms[1].label\n",
    "# Label *1 is the Donor atom"
   ]
  },
  {
   "cell_type": "code",
   "execution_count": 26,
   "metadata": {},
   "outputs": [
    {
     "data": {
      "text/plain": [
       "'*2'"
      ]
     },
     "execution_count": 26,
     "metadata": {},
     "output_type": "execute_result"
    }
   ],
   "source": [
    "template_rxn.reactants[1].molecule[0].atoms[6].label\n",
    "# Label *2 is the Hydrogen atom"
   ]
  },
  {
   "cell_type": "code",
   "execution_count": 34,
   "metadata": {},
   "outputs": [],
   "source": [
    "path_df = \"/home/calvin/Dropbox/PersonalFolders/Calvin/ATLAS_Converged\""
   ]
  },
  {
   "cell_type": "code",
   "execution_count": null,
   "metadata": {},
   "outputs": [
    {
     "data": {
      "text/plain": [
       "[{'label': 'rmg_rxn_212_r1_CC=NO', 'smiles': 'CC=NO'},\n",
       " {'label': 'rmg_rxn_212_r2_Csbr-CH-sbrCOCC', 'smiles': 'C[CH]COCC'},\n",
       " {'label': 'rmg_rxn_212_p1_CC=Nsbr-O-sbr', 'smiles': 'CC=N[O]'},\n",
       " {'label': 'rmg_rxn_212_p2_CCCOCC', 'smiles': 'CCCOCC'}]"
      ]
     },
     "execution_count": 36,
     "metadata": {},
     "output_type": "execute_result"
    }
   ],
   "source": [
    "import os\n",
    "\n",
    "read_yaml(os.path.join(path_df, 'rmg_rxn_212','input.yml'))['species']"
   ]
  },
  {
   "cell_type": "code",
   "execution_count": 27,
   "metadata": {},
   "outputs": [],
   "source": [
    "def read_yaml(yaml_path: str) -> dict:\n",
    "    import yaml\n",
    "    with open(yaml_path, 'r') as f:\n",
    "        return yaml.load(f, Loader=yaml.FullLoader)"
   ]
  },
  {
   "cell_type": "code",
   "execution_count": null,
   "metadata": {},
   "outputs": [],
   "source": [
    "def extract_ts(ts):\n",
    "    "
   ]
  },
  {
   "cell_type": "code",
   "execution_count": null,
   "metadata": {},
   "outputs": [],
   "source": [
    "def active_site_finder(r0, r1, p0, p1):\n",
    "    \n",
    "    \n",
    "    r0_species = ARCSpecies(label=str(r0), smiles=r0)\n",
    "    r1_species = ARCSpecies(label=str(r1), smiles=r1)\n",
    "    p0_species = ARCSpecies(label=str(p0), smiles=p0)\n",
    "    p1_species = ARCSpecies(label=str(p1), smiles=p1)\n",
    "    \n",
    "\n",
    "    # try:\n",
    "    #     rxn = ARCReaction(r_species=[r0_species, r1_species], p_species=[p0_species, p1_species])\n",
    "    #     rxn.determine_family(rmgdb=rmgdb)\n",
    "    \n",
    "    #     for arc_spc in rxn.r_species + rxn.p_species:\n",
    "    #         rmg_spc = Species(molecule=[arc_spc.mol.copy(deep=True)])\n",
    "    #         rmg_spc.generate_resonance_structures()\n",
    "    #         arc_spc.thermo = rmgdb.thermo.get_thermo_data(rmg_spc)\n",
    "    \n",
    "    \n",
    "            \n",
    "            "
   ]
  }
 ],
 "metadata": {
  "kernelspec": {
   "display_name": "arc_env",
   "language": "python",
   "name": "python3"
  },
  "language_info": {
   "codemirror_mode": {
    "name": "ipython",
    "version": 3
   },
   "file_extension": ".py",
   "mimetype": "text/x-python",
   "name": "python",
   "nbconvert_exporter": "python",
   "pygments_lexer": "ipython3",
   "version": "3.7.16"
  }
 },
 "nbformat": 4,
 "nbformat_minor": 2
}
