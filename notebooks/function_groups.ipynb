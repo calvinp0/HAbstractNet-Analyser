{
 "cells": [
  {
   "cell_type": "code",
   "execution_count": 2,
   "metadata": {},
   "outputs": [],
   "source": [
    "import pandas as pd\n",
    "from collections import Counter"
   ]
  },
  {
   "cell_type": "code",
   "execution_count": 3,
   "metadata": {},
   "outputs": [],
   "source": [
    "features_df = pd.read_csv('../data/descriptors/reaction_descriptors.csv')"
   ]
  },
  {
   "cell_type": "code",
   "execution_count": 10,
   "metadata": {},
   "outputs": [
    {
     "data": {
      "text/plain": [
       "Index(['unique_reaction_id', 'original_reaction_id', 'source',\n",
       "       'reactant_0_fg_counts', 'reactant_0_num_atoms', 'reactant_0_num_bonds',\n",
       "       'reactant_0_MolWt', 'reactant_0_NumHDonors', 'reactant_0_NumHAcceptors',\n",
       "       'reactant_0_atom_features', 'reactant_0_bond_features',\n",
       "       'reactant_1_fg_counts', 'reactant_1_num_atoms', 'reactant_1_num_bonds',\n",
       "       'reactant_1_MolWt', 'reactant_1_NumHDonors', 'reactant_1_NumHAcceptors',\n",
       "       'reactant_1_atom_features', 'reactant_1_bond_features',\n",
       "       'product_0_num_atoms', 'product_0_num_bonds', 'product_0_MolWt',\n",
       "       'product_0_NumHDonors', 'product_0_NumHAcceptors',\n",
       "       'product_0_atom_features', 'product_0_bond_features',\n",
       "       'product_1_num_atoms', 'product_1_num_bonds', 'product_1_MolWt',\n",
       "       'product_1_NumHDonors', 'product_1_NumHAcceptors',\n",
       "       'product_1_atom_features', 'product_1_bond_features'],\n",
       "      dtype='object')"
      ]
     },
     "execution_count": 10,
     "metadata": {},
     "output_type": "execute_result"
    }
   ],
   "source": [
    "features_df.columns"
   ]
  },
  {
   "cell_type": "code",
   "execution_count": 11,
   "metadata": {},
   "outputs": [
    {
     "data": {
      "text/plain": [
       "0       {'Hydroxyl': 2, 'Carbonyl': 0, 'Amine': 0, 'Ca...\n",
       "1       {'Hydroxyl': 2, 'Carbonyl': 0, 'Amine': 0, 'Ca...\n",
       "2       {'Hydroxyl': 2, 'Carbonyl': 0, 'Amine': 0, 'Ca...\n",
       "3       {'Hydroxyl': 2, 'Carbonyl': 0, 'Amine': 0, 'Ca...\n",
       "4       {'Hydroxyl': 2, 'Carbonyl': 0, 'Amine': 0, 'Ca...\n",
       "                              ...                        \n",
       "1862    {'Hydroxyl': 0, 'Carbonyl': 0, 'Amine': 0, 'Ca...\n",
       "1863    {'Hydroxyl': 0, 'Carbonyl': 0, 'Amine': 0, 'Ca...\n",
       "1864    {'Hydroxyl': 0, 'Carbonyl': 0, 'Amine': 0, 'Ca...\n",
       "1865    {'Hydroxyl': 0, 'Carbonyl': 0, 'Amine': 0, 'Ca...\n",
       "1866    {'Hydroxyl': 0, 'Carbonyl': 0, 'Amine': 0, 'Ca...\n",
       "Name: reactant_0_fg_counts, Length: 1867, dtype: object"
      ]
     },
     "execution_count": 11,
     "metadata": {},
     "output_type": "execute_result"
    }
   ],
   "source": [
    "features_df['reactant_0_fg_counts']"
   ]
  },
  {
   "cell_type": "code",
   "execution_count": 12,
   "metadata": {},
   "outputs": [],
   "source": [
    "import ast\n",
    "\n",
    "# Function to convert string to dictionary\n",
    "def str_to_dict(s):\n",
    "    return ast.literal_eval(s)"
   ]
  },
  {
   "cell_type": "code",
   "execution_count": 13,
   "metadata": {},
   "outputs": [],
   "source": [
    "features_df['reactant_0_fg_counts'] = features_df['reactant_0_fg_counts'].apply(str_to_dict)\n",
    "features_df['reactant_1_fg_counts'] = features_df['reactant_1_fg_counts'].apply(str_to_dict)"
   ]
  },
  {
   "cell_type": "code",
   "execution_count": 14,
   "metadata": {},
   "outputs": [],
   "source": [
    "# Initialize counters\n",
    "fg_counts_reactant_0 = Counter()\n",
    "fg_counts_reactant_1 = Counter()\n",
    "\n",
    "# Iterate over the DataFrame\n",
    "for index, row in features_df.iterrows():\n",
    "    fg_counts_r0 = row['reactant_0_fg_counts']\n",
    "    fg_counts_r1 = row['reactant_1_fg_counts']\n",
    "\n",
    "    # Update counters\n",
    "    fg_counts_reactant_0.update(fg_counts_r0)\n",
    "    fg_counts_reactant_1.update(fg_counts_r1)"
   ]
  },
  {
   "cell_type": "code",
   "execution_count": 15,
   "metadata": {},
   "outputs": [],
   "source": [
    "# Convert counters to DataFrames\n",
    "fg_df_r0 = pd.DataFrame(list(fg_counts_reactant_0.items()), columns=['Functional Group', 'Count'])\n",
    "fg_df_r0['Reactant'] = 'Reactant 0'\n",
    "\n",
    "fg_df_r1 = pd.DataFrame(list(fg_counts_reactant_1.items()), columns=['Functional Group', 'Count'])\n",
    "fg_df_r1['Reactant'] = 'Reactant 1'\n",
    "\n",
    "# Combine the DataFrames\n",
    "fg_df = pd.concat([fg_df_r0, fg_df_r1])"
   ]
  },
  {
   "cell_type": "code",
   "execution_count": 16,
   "metadata": {},
   "outputs": [
    {
     "data": {
      "text/html": [
       "<div>\n",
       "<style scoped>\n",
       "    .dataframe tbody tr th:only-of-type {\n",
       "        vertical-align: middle;\n",
       "    }\n",
       "\n",
       "    .dataframe tbody tr th {\n",
       "        vertical-align: top;\n",
       "    }\n",
       "\n",
       "    .dataframe thead th {\n",
       "        text-align: right;\n",
       "    }\n",
       "</style>\n",
       "<table border=\"1\" class=\"dataframe\">\n",
       "  <thead>\n",
       "    <tr style=\"text-align: right;\">\n",
       "      <th></th>\n",
       "      <th>Functional Group</th>\n",
       "      <th>Count</th>\n",
       "      <th>Reactant</th>\n",
       "    </tr>\n",
       "  </thead>\n",
       "  <tbody>\n",
       "    <tr>\n",
       "      <th>0</th>\n",
       "      <td>Hydroxyl</td>\n",
       "      <td>191</td>\n",
       "      <td>Reactant 0</td>\n",
       "    </tr>\n",
       "    <tr>\n",
       "      <th>1</th>\n",
       "      <td>Carbonyl</td>\n",
       "      <td>24</td>\n",
       "      <td>Reactant 0</td>\n",
       "    </tr>\n",
       "    <tr>\n",
       "      <th>2</th>\n",
       "      <td>Amine</td>\n",
       "      <td>52</td>\n",
       "      <td>Reactant 0</td>\n",
       "    </tr>\n",
       "    <tr>\n",
       "      <th>3</th>\n",
       "      <td>Carboxylic Acid</td>\n",
       "      <td>0</td>\n",
       "      <td>Reactant 0</td>\n",
       "    </tr>\n",
       "    <tr>\n",
       "      <th>4</th>\n",
       "      <td>Ester</td>\n",
       "      <td>0</td>\n",
       "      <td>Reactant 0</td>\n",
       "    </tr>\n",
       "    <tr>\n",
       "      <th>5</th>\n",
       "      <td>Ether</td>\n",
       "      <td>87</td>\n",
       "      <td>Reactant 0</td>\n",
       "    </tr>\n",
       "    <tr>\n",
       "      <th>6</th>\n",
       "      <td>Aromatic Ring</td>\n",
       "      <td>60</td>\n",
       "      <td>Reactant 0</td>\n",
       "    </tr>\n",
       "    <tr>\n",
       "      <th>7</th>\n",
       "      <td>Alkene</td>\n",
       "      <td>447</td>\n",
       "      <td>Reactant 0</td>\n",
       "    </tr>\n",
       "    <tr>\n",
       "      <th>8</th>\n",
       "      <td>Alkyne</td>\n",
       "      <td>441</td>\n",
       "      <td>Reactant 0</td>\n",
       "    </tr>\n",
       "    <tr>\n",
       "      <th>9</th>\n",
       "      <td>Halogen</td>\n",
       "      <td>28</td>\n",
       "      <td>Reactant 0</td>\n",
       "    </tr>\n",
       "    <tr>\n",
       "      <th>10</th>\n",
       "      <td>Nitro</td>\n",
       "      <td>0</td>\n",
       "      <td>Reactant 0</td>\n",
       "    </tr>\n",
       "    <tr>\n",
       "      <th>11</th>\n",
       "      <td>Sulfonyl</td>\n",
       "      <td>0</td>\n",
       "      <td>Reactant 0</td>\n",
       "    </tr>\n",
       "    <tr>\n",
       "      <th>0</th>\n",
       "      <td>Hydroxyl</td>\n",
       "      <td>93</td>\n",
       "      <td>Reactant 1</td>\n",
       "    </tr>\n",
       "    <tr>\n",
       "      <th>1</th>\n",
       "      <td>Carbonyl</td>\n",
       "      <td>52</td>\n",
       "      <td>Reactant 1</td>\n",
       "    </tr>\n",
       "    <tr>\n",
       "      <th>2</th>\n",
       "      <td>Amine</td>\n",
       "      <td>33</td>\n",
       "      <td>Reactant 1</td>\n",
       "    </tr>\n",
       "    <tr>\n",
       "      <th>3</th>\n",
       "      <td>Carboxylic Acid</td>\n",
       "      <td>0</td>\n",
       "      <td>Reactant 1</td>\n",
       "    </tr>\n",
       "    <tr>\n",
       "      <th>4</th>\n",
       "      <td>Ester</td>\n",
       "      <td>5</td>\n",
       "      <td>Reactant 1</td>\n",
       "    </tr>\n",
       "    <tr>\n",
       "      <th>5</th>\n",
       "      <td>Ether</td>\n",
       "      <td>260</td>\n",
       "      <td>Reactant 1</td>\n",
       "    </tr>\n",
       "    <tr>\n",
       "      <th>6</th>\n",
       "      <td>Aromatic Ring</td>\n",
       "      <td>124</td>\n",
       "      <td>Reactant 1</td>\n",
       "    </tr>\n",
       "    <tr>\n",
       "      <th>7</th>\n",
       "      <td>Alkene</td>\n",
       "      <td>452</td>\n",
       "      <td>Reactant 1</td>\n",
       "    </tr>\n",
       "    <tr>\n",
       "      <th>8</th>\n",
       "      <td>Alkyne</td>\n",
       "      <td>88</td>\n",
       "      <td>Reactant 1</td>\n",
       "    </tr>\n",
       "    <tr>\n",
       "      <th>9</th>\n",
       "      <td>Halogen</td>\n",
       "      <td>24</td>\n",
       "      <td>Reactant 1</td>\n",
       "    </tr>\n",
       "    <tr>\n",
       "      <th>10</th>\n",
       "      <td>Nitro</td>\n",
       "      <td>0</td>\n",
       "      <td>Reactant 1</td>\n",
       "    </tr>\n",
       "    <tr>\n",
       "      <th>11</th>\n",
       "      <td>Sulfonyl</td>\n",
       "      <td>0</td>\n",
       "      <td>Reactant 1</td>\n",
       "    </tr>\n",
       "  </tbody>\n",
       "</table>\n",
       "</div>"
      ],
      "text/plain": [
       "   Functional Group  Count    Reactant\n",
       "0          Hydroxyl    191  Reactant 0\n",
       "1          Carbonyl     24  Reactant 0\n",
       "2             Amine     52  Reactant 0\n",
       "3   Carboxylic Acid      0  Reactant 0\n",
       "4             Ester      0  Reactant 0\n",
       "5             Ether     87  Reactant 0\n",
       "6     Aromatic Ring     60  Reactant 0\n",
       "7            Alkene    447  Reactant 0\n",
       "8            Alkyne    441  Reactant 0\n",
       "9           Halogen     28  Reactant 0\n",
       "10            Nitro      0  Reactant 0\n",
       "11         Sulfonyl      0  Reactant 0\n",
       "0          Hydroxyl     93  Reactant 1\n",
       "1          Carbonyl     52  Reactant 1\n",
       "2             Amine     33  Reactant 1\n",
       "3   Carboxylic Acid      0  Reactant 1\n",
       "4             Ester      5  Reactant 1\n",
       "5             Ether    260  Reactant 1\n",
       "6     Aromatic Ring    124  Reactant 1\n",
       "7            Alkene    452  Reactant 1\n",
       "8            Alkyne     88  Reactant 1\n",
       "9           Halogen     24  Reactant 1\n",
       "10            Nitro      0  Reactant 1\n",
       "11         Sulfonyl      0  Reactant 1"
      ]
     },
     "execution_count": 16,
     "metadata": {},
     "output_type": "execute_result"
    }
   ],
   "source": [
    "fg_df"
   ]
  },
  {
   "cell_type": "code",
   "execution_count": 17,
   "metadata": {},
   "outputs": [
    {
     "data": {
      "image/png": "[encoded data removed]",
      "text/plain": [
       "<Figure size 1200x600 with 1 Axes>"
      ]
     },
     "metadata": {},
     "output_type": "display_data"
    }
   ],
   "source": [
    "import matplotlib.pyplot as plt\n",
    "import seaborn as sns\n",
    "\n",
    "plt.figure(figsize=(12, 6))\n",
    "sns.barplot(data=fg_df, x='Functional Group', y='Count', hue='Reactant')\n",
    "plt.title('Functional Group Counts in Reactants')\n",
    "plt.xlabel('Functional Group')\n",
    "plt.ylabel('Total Count')\n",
    "plt.xticks(rotation=45)\n",
    "plt.legend()\n",
    "plt.show()"
   ]
  },
  {
   "cell_type": "code",
   "execution_count": 7,
   "metadata": {},
   "outputs": [
    {
     "ename": "NameError",
     "evalue": "name 'functional_groups' is not defined",
     "output_type": "error",
     "traceback": [
      "\u001b[0;31m---------------------------------------------------------------------------\u001b[0m",
      "\u001b[0;31mNameError\u001b[0m                                 Traceback (most recent call last)",
      "Cell \u001b[0;32mIn[7], line 8\u001b[0m\n\u001b[1;32m      4\u001b[0m fg_freq_r1 \u001b[38;5;241m=\u001b[39m {fg: count \u001b[38;5;241m/\u001b[39m total_reactions \u001b[38;5;28;01mfor\u001b[39;00m fg, count \u001b[38;5;129;01min\u001b[39;00m fg_counts_reactant_1\u001b[38;5;241m.\u001b[39mitems()}\n\u001b[1;32m      6\u001b[0m \u001b[38;5;66;03m# Create DataFrame\u001b[39;00m\n\u001b[1;32m      7\u001b[0m fg_freq_df \u001b[38;5;241m=\u001b[39m pd\u001b[38;5;241m.\u001b[39mDataFrame({\n\u001b[0;32m----> 8\u001b[0m     \u001b[38;5;124m'\u001b[39m\u001b[38;5;124mFunctional Group\u001b[39m\u001b[38;5;124m'\u001b[39m: \u001b[43mfunctional_groups\u001b[49m\u001b[38;5;241m.\u001b[39mkeys(),\n\u001b[1;32m      9\u001b[0m     \u001b[38;5;124m'\u001b[39m\u001b[38;5;124mReactant 0\u001b[39m\u001b[38;5;124m'\u001b[39m: [fg_freq_r0\u001b[38;5;241m.\u001b[39mget(fg, \u001b[38;5;241m0\u001b[39m) \u001b[38;5;28;01mfor\u001b[39;00m fg \u001b[38;5;129;01min\u001b[39;00m functional_groups\u001b[38;5;241m.\u001b[39mkeys()],\n\u001b[1;32m     10\u001b[0m     \u001b[38;5;124m'\u001b[39m\u001b[38;5;124mReactant 1\u001b[39m\u001b[38;5;124m'\u001b[39m: [fg_freq_r1\u001b[38;5;241m.\u001b[39mget(fg, \u001b[38;5;241m0\u001b[39m) \u001b[38;5;28;01mfor\u001b[39;00m fg \u001b[38;5;129;01min\u001b[39;00m functional_groups\u001b[38;5;241m.\u001b[39mkeys()],\n\u001b[1;32m     11\u001b[0m })\n\u001b[1;32m     13\u001b[0m \u001b[38;5;66;03m# Melt DataFrame for seaborn\u001b[39;00m\n\u001b[1;32m     14\u001b[0m fg_freq_df_melted \u001b[38;5;241m=\u001b[39m fg_freq_df\u001b[38;5;241m.\u001b[39mmelt(id_vars\u001b[38;5;241m=\u001b[39m\u001b[38;5;124m'\u001b[39m\u001b[38;5;124mFunctional Group\u001b[39m\u001b[38;5;124m'\u001b[39m, var_name\u001b[38;5;241m=\u001b[39m\u001b[38;5;124m'\u001b[39m\u001b[38;5;124mReactant\u001b[39m\u001b[38;5;124m'\u001b[39m, value_name\u001b[38;5;241m=\u001b[39m\u001b[38;5;124m'\u001b[39m\u001b[38;5;124mFrequency\u001b[39m\u001b[38;5;124m'\u001b[39m)\n",
      "\u001b[0;31mNameError\u001b[0m: name 'functional_groups' is not defined"
     ]
    }
   ],
   "source": []
  },
  {
   "cell_type": "code",
   "execution_count": null,
   "metadata": {},
   "outputs": [],
   "source": []
  }
 ],
 "metadata": {
  "kernelspec": {
   "display_name": "hab_clean",
   "language": "python",
   "name": "python3"
  },
  "language_info": {
   "codemirror_mode": {
    "name": "ipython",
    "version": 3
   },
   "file_extension": ".py",
   "mimetype": "text/x-python",
   "name": "python",
   "nbconvert_exporter": "python",
   "pygments_lexer": "ipython3",
   "version": "3.10.15"
  }
 },
 "nbformat": 4,
 "nbformat_minor": 2
}
